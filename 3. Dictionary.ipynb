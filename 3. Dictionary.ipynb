{
 "cells": [
  {
   "cell_type": "markdown",
   "metadata": {
    "colab_type": "text",
    "id": "C8zY2j4Ai_ui"
   },
   "source": [
    "# Python Dictionary from Scratch!!!"
   ]
  },
  {
   "cell_type": "markdown",
   "metadata": {
    "colab_type": "text",
    "id": "xVfVg95wjCdY"
   },
   "source": [
    "## Let us understand the fundamentals of dictionaries in python."
   ]
  },
  {
   "cell_type": "markdown",
   "metadata": {
    "colab_type": "text",
    "id": "zCwE8lv4jIvv"
   },
   "source": [
    "Dictionary in python comprises an unordered collection of data stored in a key: value format. Dictionary is also known as \"Associative memories\" or \"Associative arrays\". In a dictionary, the key must always be unique. Whereas the values can be repeated and can be of any data type. The key-value pair should be represented as \"key: value\" (: colon is a must). Shown below are some most used dictionary methods and are one of the most commonly asked interview questions."
   ]
  },
  {
   "cell_type": "markdown",
   "metadata": {
    "colab_type": "text",
    "id": "vrBc0WN-jK69"
   },
   "source": [
    "**For example, declaring a dictionary in python:**"
   ]
  },
  {
   "cell_type": "code",
   "execution_count": null,
   "metadata": {
    "colab": {
     "base_uri": "https://localhost:8080/",
     "height": 35
    },
    "colab_type": "code",
    "id": "9tX_rrR8jQIx",
    "outputId": "7eeda567-e6f9-4fed-8462-b95182f0d8ef"
   },
   "outputs": [],
   "source": [
    "# Declaring a dictionary\n",
    "\n",
    "dictionary = {}\n",
    "dictionary = {'Name': 'Tanu', 'Sex': 'Male', 'Age': 23}\n",
    "print(dictionary)"
   ]
  },
  {
   "cell_type": "code",
   "execution_count": null,
   "metadata": {
    "colab": {
     "base_uri": "https://localhost:8080/",
     "height": 35
    },
    "colab_type": "code",
    "id": "-r9P3fctjSgg",
    "outputId": "15bee850-9297-4a5b-a75c-57f57aab7e87"
   },
   "outputs": [],
   "source": [
    "print(type(dictionary))"
   ]
  },
  {
   "cell_type": "markdown",
   "metadata": {
    "colab_type": "text",
    "id": "vIfN4FqVjUBD"
   },
   "source": [
    "\n",
    "\n",
    "---\n",
    "\n"
   ]
  },
  {
   "cell_type": "markdown",
   "metadata": {
    "colab_type": "text",
    "id": "CqpWeQ3ojWyC"
   },
   "source": [
    "# 1) Accessing the elements in a dictionary\n",
    "\n",
    "Dictionaries can be accessed by their index to get the value. To do this, all you have to do is just place the number or the name of the key inside the pair of square brackets along with the name of the dictionary.\n"
   ]
  },
  {
   "cell_type": "code",
   "execution_count": null,
   "metadata": {
    "colab": {
     "base_uri": "https://localhost:8080/",
     "height": 35
    },
    "colab_type": "code",
    "id": "mnW2atajjV87",
    "outputId": "e154041c-97f8-41af-aee5-c6bc582d3ac2"
   },
   "outputs": [],
   "source": [
    "# Accessing the elements in a dictionary\n",
    "\n",
    "dictionary = {'Name': 'Tanu', 'Sex': 'Male', 'Age': 23}\n",
    "print(dictionary)"
   ]
  },
  {
   "cell_type": "code",
   "execution_count": null,
   "metadata": {
    "colab": {
     "base_uri": "https://localhost:8080/",
     "height": 35
    },
    "colab_type": "code",
    "id": "a_X0bjTOjcei",
    "outputId": "67e1229a-1354-4b5f-d575-3a85e48ff5b4"
   },
   "outputs": [],
   "source": [
    "print(dictionary['Name'])"
   ]
  },
  {
   "cell_type": "code",
   "execution_count": null,
   "metadata": {
    "colab": {
     "base_uri": "https://localhost:8080/",
     "height": 35
    },
    "colab_type": "code",
    "id": "yhlDznhqjelc",
    "outputId": "1ed76bf2-7b1a-4b8c-d6ec-a8309cc3a5ac"
   },
   "outputs": [],
   "source": [
    "print(dictionary['Sex'])"
   ]
  },
  {
   "cell_type": "markdown",
   "metadata": {
    "colab_type": "text",
    "id": "C6t-3wqojv4e"
   },
   "source": [
    "If you try to access the key which is not declared in the dictionary then an exception would be raised indicating no results found:"
   ]
  },
  {
   "cell_type": "code",
   "execution_count": null,
   "metadata": {
    "colab": {
     "base_uri": "https://localhost:8080/",
     "height": 166
    },
    "colab_type": "code",
    "id": "WzNJMc1yji5U",
    "outputId": "ad52059f-edff-44b1-9e45-c84c4577b7e4"
   },
   "outputs": [],
   "source": [
    "dictionary['Height']"
   ]
  },
  {
   "cell_type": "markdown",
   "metadata": {
    "colab_type": "text",
    "id": "uUDemRUzjzjj"
   },
   "source": [
    "Also, we can use the get() of the dictionary to get or access the values of the dictionary as seen below:"
   ]
  },
  {
   "cell_type": "code",
   "execution_count": null,
   "metadata": {
    "colab": {
     "base_uri": "https://localhost:8080/",
     "height": 35
    },
    "colab_type": "code",
    "id": "1oV7TTuDj0AM",
    "outputId": "e0364d85-972e-453f-c098-3c573bb9692b"
   },
   "outputs": [],
   "source": [
    "print(dictionary.get('Age'))"
   ]
  },
  {
   "cell_type": "markdown",
   "metadata": {
    "colab_type": "text",
    "id": "hpq17gxsj7tR"
   },
   "source": [
    "\n",
    "\n",
    "---\n",
    "\n"
   ]
  },
  {
   "cell_type": "markdown",
   "metadata": {
    "colab_type": "text",
    "id": "ZGLoW99Mj8gJ"
   },
   "source": [
    "# 2) Removing the elements from a dictionary.\n",
    "\n",
    "In python, there are four different ways or methods that can be used to remove an element from a dictionary. Those are pop, del, popitem and clear. The del is used to delete a key from a dictionary, the pop is used to remove a specific key from a dictionary, popitem is used to remove the key arbitrarily from a dictionary, and the clear is used to just clear or delete all the elements in the dictionary (as the name suggests)."
   ]
  },
  {
   "cell_type": "code",
   "execution_count": null,
   "metadata": {
    "colab": {
     "base_uri": "https://localhost:8080/",
     "height": 35
    },
    "colab_type": "code",
    "id": "WVSsS_dXj2z4",
    "outputId": "b1431527-a015-45d8-f536-74e2440b6532"
   },
   "outputs": [],
   "source": [
    "# Removing the elements from a dictionary\n",
    "\n",
    "dictionary = {'Name': 'Tanu', 'Sex': 'Male', 'Age': 23, 'Height': 5.8, 'Occupation': 'Student'}\n",
    "print(dictionary)"
   ]
  },
  {
   "cell_type": "code",
   "execution_count": null,
   "metadata": {
    "colab": {
     "base_uri": "https://localhost:8080/",
     "height": 35
    },
    "colab_type": "code",
    "id": "NvQAuY1NkCj-",
    "outputId": "ac29a917-91a3-44d5-d9bc-0a50fc947657"
   },
   "outputs": [],
   "source": [
    "# Deleting an element\n",
    "\n",
    "del dictionary['Name']\n",
    "print(dictionary)"
   ]
  },
  {
   "cell_type": "code",
   "execution_count": null,
   "metadata": {
    "colab": {
     "base_uri": "https://localhost:8080/",
     "height": 35
    },
    "colab_type": "code",
    "id": "C1rKkMWWkm-p",
    "outputId": "8c44a1f4-8ae0-4bdc-be02-75044b6524d7"
   },
   "outputs": [],
   "source": [
    "# Popping an item\n",
    "\n",
    "print(dictionary.popitem())"
   ]
  },
  {
   "cell_type": "code",
   "execution_count": null,
   "metadata": {
    "colab": {
     "base_uri": "https://localhost:8080/",
     "height": 35
    },
    "colab_type": "code",
    "id": "thMP9vUOk5i1",
    "outputId": "dc048c74-968c-4a85-9cc2-30f76c03d4e5"
   },
   "outputs": [],
   "source": [
    "# Popping the value\n",
    "\n",
    "print(dictionary.pop('Sex'))"
   ]
  },
  {
   "cell_type": "code",
   "execution_count": null,
   "metadata": {
    "colab": {
     "base_uri": "https://localhost:8080/",
     "height": 35
    },
    "colab_type": "code",
    "id": "BvkNptWdlMFX",
    "outputId": "21faab88-2ae4-4dca-d0de-afc0d1439603"
   },
   "outputs": [],
   "source": [
    "print(dictionary)"
   ]
  },
  {
   "cell_type": "code",
   "execution_count": null,
   "metadata": {
    "colab": {
     "base_uri": "https://localhost:8080/",
     "height": 35
    },
    "colab_type": "code",
    "id": "D1yvCB31liJt",
    "outputId": "7c2ff369-d91f-4e94-e9a8-8f3b03cd1412"
   },
   "outputs": [],
   "source": [
    "# Clearing the entire dictionary\n",
    "\n",
    "dictionary.clear()\n",
    "print(dictionary)"
   ]
  },
  {
   "cell_type": "markdown",
   "metadata": {
    "colab_type": "text",
    "id": "JV0-gA9Sl6GM"
   },
   "source": [
    "\n",
    "\n",
    "---\n",
    "\n"
   ]
  },
  {
   "cell_type": "markdown",
   "metadata": {
    "colab_type": "text",
    "id": "Xs1b4dQGl6wB"
   },
   "source": [
    "# 3) Iterating Through a Dictionary\n",
    "\n",
    "Using a for loop we can iterate through each key in a dictionary as shown below:"
   ]
  },
  {
   "cell_type": "code",
   "execution_count": null,
   "metadata": {
    "colab": {
     "base_uri": "https://localhost:8080/",
     "height": 35
    },
    "colab_type": "code",
    "id": "mgqztEpnmGNx",
    "outputId": "04dcf27c-2e41-4a21-878a-a33856f75f72"
   },
   "outputs": [],
   "source": [
    "dictionary = {'Name': 'Tanu', 'Sex': 'Male', 'Age': 23, 'Height': 5.8, 'Occupation': 'Student'}\n",
    "print(dictionary)"
   ]
  },
  {
   "cell_type": "code",
   "execution_count": null,
   "metadata": {
    "colab": {
     "base_uri": "https://localhost:8080/",
     "height": 104
    },
    "colab_type": "code",
    "id": "r0kYERvMmNtc",
    "outputId": "92753acf-07e1-475e-f6ee-b8fa82cf0045"
   },
   "outputs": [],
   "source": [
    "# Iterating through the values\n",
    "\n",
    "for i in dictionary:\n",
    "    print(dictionary[i])"
   ]
  },
  {
   "cell_type": "code",
   "execution_count": null,
   "metadata": {
    "colab": {
     "base_uri": "https://localhost:8080/",
     "height": 104
    },
    "colab_type": "code",
    "id": "aV9J2J96mRLU",
    "outputId": "dbdc2442-e1db-447f-b283-ddc17ad3ffcb"
   },
   "outputs": [],
   "source": [
    "# Iterating through the keys\n",
    "\n",
    "for i in dictionary:\n",
    "    print(i)"
   ]
  },
  {
   "cell_type": "markdown",
   "metadata": {
    "colab_type": "text",
    "id": "MqxSw4n5mTte"
   },
   "source": [
    "\n",
    "\n",
    "---\n",
    "\n"
   ]
  },
  {
   "cell_type": "markdown",
   "metadata": {
    "colab_type": "text",
    "id": "4KvR9r3bmUPO"
   },
   "source": [
    "# 4) All\n",
    "\n",
    "The all () in dictionary returns \"True\" if all keys of the dictionary are true (or if the dictionary is empty). If the keys in the dictionary are true or if the dictionary all method returns true or else it will return false."
   ]
  },
  {
   "cell_type": "code",
   "execution_count": null,
   "metadata": {
    "colab": {
     "base_uri": "https://localhost:8080/",
     "height": 35
    },
    "colab_type": "code",
    "id": "ISO7NPhimWs8",
    "outputId": "6109bba0-b72a-4dd1-fb05-2bd85809ae6d"
   },
   "outputs": [],
   "source": [
    "dictionary = {0: \"Tanu\", 1: \"Prabhu\"}\n",
    "print(dictionary)"
   ]
  },
  {
   "cell_type": "code",
   "execution_count": null,
   "metadata": {
    "colab": {
     "base_uri": "https://localhost:8080/",
     "height": 35
    },
    "colab_type": "code",
    "id": "6Y9UwtAImag9",
    "outputId": "478d7a6e-4872-480f-b85b-0700138a6d1a"
   },
   "outputs": [],
   "source": [
    "print(all(dictionary))"
   ]
  },
  {
   "cell_type": "code",
   "execution_count": null,
   "metadata": {
    "colab": {
     "base_uri": "https://localhost:8080/",
     "height": 35
    },
    "colab_type": "code",
    "id": "OLjFMuKFmcxS",
    "outputId": "182db9c8-5c84-4057-a133-695bf9336e70"
   },
   "outputs": [],
   "source": [
    "dictionary = {1: \"Tanu\", 1: \"Prabhu\"}\n",
    "print(all(dictionary))"
   ]
  },
  {
   "cell_type": "code",
   "execution_count": null,
   "metadata": {
    "colab": {
     "base_uri": "https://localhost:8080/",
     "height": 35
    },
    "colab_type": "code",
    "id": "JpjaiflcmfJm",
    "outputId": "ab3c5db9-eab7-4224-81ef-c030809b7c36"
   },
   "outputs": [],
   "source": [
    "dictionary = {}\n",
    "print(all(dictionary))"
   ]
  },
  {
   "cell_type": "markdown",
   "metadata": {
    "colab_type": "text",
    "id": "Xqj6a3cBmiXR"
   },
   "source": [
    "\n",
    "\n",
    "---\n",
    "\n"
   ]
  },
  {
   "cell_type": "markdown",
   "metadata": {
    "colab_type": "text",
    "id": "K7AJYZLumi-H"
   },
   "source": [
    "# 5) Any\n",
    "The any () in dictionary return \"True\" if any key of the dictionary is true. If the dictionary is empty, returns \"False\"."
   ]
  },
  {
   "cell_type": "code",
   "execution_count": null,
   "metadata": {
    "colab": {
     "base_uri": "https://localhost:8080/",
     "height": 35
    },
    "colab_type": "code",
    "id": "hMS8EF6GmlO8",
    "outputId": "24b705e3-8722-433d-f01e-e5271cdd58fd"
   },
   "outputs": [],
   "source": [
    "dictionary = {0: \"Tanu\", 1: \"Prabhu\"}\n",
    "print(dictionary)"
   ]
  },
  {
   "cell_type": "code",
   "execution_count": null,
   "metadata": {
    "colab": {
     "base_uri": "https://localhost:8080/",
     "height": 35
    },
    "colab_type": "code",
    "id": "CLBhmNVImqKL",
    "outputId": "350f8f61-8c1c-42ca-a1e1-f5df2bfecd54"
   },
   "outputs": [],
   "source": [
    "print(any(dictionary))"
   ]
  },
  {
   "cell_type": "code",
   "execution_count": null,
   "metadata": {
    "colab": {
     "base_uri": "https://localhost:8080/",
     "height": 35
    },
    "colab_type": "code",
    "id": "aNXU7SVJmr9j",
    "outputId": "f78ced6c-80fa-40fb-f110-7b2e8ff872cf"
   },
   "outputs": [],
   "source": [
    "dictionary = {0: \"Tanu\", 0: \"Prabhu\"}\n",
    "print(any(dictionary))"
   ]
  },
  {
   "cell_type": "code",
   "execution_count": null,
   "metadata": {
    "colab": {
     "base_uri": "https://localhost:8080/",
     "height": 35
    },
    "colab_type": "code",
    "id": "AZMYfpd2muSl",
    "outputId": "f26a211e-854c-4c9c-b2a5-827d96c489e4"
   },
   "outputs": [],
   "source": [
    "# 0 is False\n",
    "\n",
    "dictionary = {0: \"Tanu\"}\n",
    "print(any(dictionary))"
   ]
  },
  {
   "cell_type": "markdown",
   "metadata": {
    "colab_type": "text",
    "id": "LLmp_D8ZmwLU"
   },
   "source": [
    "\n",
    "\n",
    "---\n",
    "\n"
   ]
  },
  {
   "cell_type": "markdown",
   "metadata": {
    "colab_type": "text",
    "id": "dqpHHnLYmwpT"
   },
   "source": [
    "# 6) Len\n",
    "The length () method in the dictionary returns the length of the dictionary (obviously). It returns the number of items of the dictionary."
   ]
  },
  {
   "cell_type": "code",
   "execution_count": null,
   "metadata": {
    "colab": {
     "base_uri": "https://localhost:8080/",
     "height": 35
    },
    "colab_type": "code",
    "id": "JhXR7ZxrmycL",
    "outputId": "298707af-2b19-4471-f093-f6d8325bda42"
   },
   "outputs": [],
   "source": [
    "dictionary = {'Name': 'Tanu', 'Sex': 'Male', 'Age': 23, 'Height': 5.8, 'Occupation': 'Student'}\n",
    "print(dictionary)"
   ]
  },
  {
   "cell_type": "code",
   "execution_count": null,
   "metadata": {
    "colab": {
     "base_uri": "https://localhost:8080/",
     "height": 35
    },
    "colab_type": "code",
    "id": "60RU8jVKm4V5",
    "outputId": "fc8fdf41-1e8c-4fc3-a262-186365656ff0"
   },
   "outputs": [],
   "source": [
    "print(len(dictionary))"
   ]
  },
  {
   "cell_type": "markdown",
   "metadata": {
    "colab_type": "text",
    "id": "jcVXh7ijm5dU"
   },
   "source": [
    "\n",
    "\n",
    "---\n",
    "\n"
   ]
  },
  {
   "cell_type": "markdown",
   "metadata": {
    "colab_type": "text",
    "id": "ciqeNRdum7nS"
   },
   "source": [
    "# 7) Sorted\n",
    "The Sorted() method in dictionary returns a new sorted list of keys in the dictionary."
   ]
  },
  {
   "cell_type": "code",
   "execution_count": null,
   "metadata": {
    "colab": {
     "base_uri": "https://localhost:8080/",
     "height": 35
    },
    "colab_type": "code",
    "id": "kEBy3Bp1nHfZ",
    "outputId": "36457171-1fb7-4b67-ec64-e35aac9a627d"
   },
   "outputs": [],
   "source": [
    "dictionary = {'Name': 'Tanu', 'Sex': 'Male', 'Age': 23, 'Height': 5.8, 'Occupation': 'Student'}\n",
    "print(dictionary)"
   ]
  },
  {
   "cell_type": "code",
   "execution_count": null,
   "metadata": {
    "colab": {
     "base_uri": "https://localhost:8080/",
     "height": 35
    },
    "colab_type": "code",
    "id": "gDzRnbZznFkt",
    "outputId": "2e792f1d-170a-4ffc-d161-73d7cde14fac"
   },
   "outputs": [],
   "source": [
    "# Sorting in a ascending order\n",
    "\n",
    "print(sorted(dictionary))"
   ]
  },
  {
   "cell_type": "code",
   "execution_count": null,
   "metadata": {
    "colab": {
     "base_uri": "https://localhost:8080/",
     "height": 35
    },
    "colab_type": "code",
    "id": "6ZGg4dPhnKVV",
    "outputId": "8bc5d01c-920d-4c54-8a43-0188358f9c2d"
   },
   "outputs": [],
   "source": [
    "# Sorting in a descending order\n",
    "\n",
    "print(sorted(dictionary, reverse = True))"
   ]
  },
  {
   "cell_type": "markdown",
   "metadata": {
    "colab_type": "text",
    "id": "8LBfLFhinMHY"
   },
   "source": [
    "The sorted() method accepts a reverse parameter as an optional argument.\n",
    "\n",
    "---\n",
    "\n"
   ]
  },
  {
   "cell_type": "markdown",
   "metadata": {
    "colab_type": "text",
    "id": "uPt_rmNBnNb-"
   },
   "source": [
    "# 8) Copy\n",
    "As the name suggests the copy method in dictionary returns a copy of the dictionary."
   ]
  },
  {
   "cell_type": "code",
   "execution_count": null,
   "metadata": {
    "colab": {
     "base_uri": "https://localhost:8080/",
     "height": 35
    },
    "colab_type": "code",
    "id": "udFUMrvcnXgx",
    "outputId": "cd4a8ccf-3041-4b72-af92-00abebf166f1"
   },
   "outputs": [],
   "source": [
    "dictionary = {'Name': 'Tanu', 'Sex': 'Male', 'Age': 23, 'Height': 5.8, 'Occupation': 'Student'}\n",
    "print(dictionary)"
   ]
  },
  {
   "cell_type": "code",
   "execution_count": null,
   "metadata": {
    "colab": {
     "base_uri": "https://localhost:8080/",
     "height": 35
    },
    "colab_type": "code",
    "id": "KhKgB1yNnYW1",
    "outputId": "0e5573ac-0ab4-44c5-e56b-fb2394aed33b"
   },
   "outputs": [],
   "source": [
    "dictionary1 = {}\n",
    "print(dictionary1)"
   ]
  },
  {
   "cell_type": "code",
   "execution_count": null,
   "metadata": {
    "colab": {
     "base_uri": "https://localhost:8080/",
     "height": 35
    },
    "colab_type": "code",
    "id": "YOVHVyEinaj2",
    "outputId": "2911442c-87c1-4e53-a7df-2b94696489a8"
   },
   "outputs": [],
   "source": [
    "dictionary1 = dictionary.copy()\n",
    "print(dictionary1)"
   ]
  },
  {
   "cell_type": "markdown",
   "metadata": {
    "colab_type": "text",
    "id": "GrMN6BLJnh95"
   },
   "source": [
    "\n",
    "\n",
    "---\n",
    "\n"
   ]
  },
  {
   "cell_type": "markdown",
   "metadata": {
    "colab_type": "text",
    "id": "lOTpUM0Enk4N"
   },
   "source": [
    "# 9) Keys\n",
    "Python dictionary method key() returns a list of all the available keys in the dictionary."
   ]
  },
  {
   "cell_type": "code",
   "execution_count": null,
   "metadata": {
    "colab": {
     "base_uri": "https://localhost:8080/",
     "height": 35
    },
    "colab_type": "code",
    "id": "2U_OwjIqnknh",
    "outputId": "2fd1644b-5b46-4049-a529-0c46f0f60861"
   },
   "outputs": [],
   "source": [
    "dictionary = {'Name': 'Tanu', 'Sex': 'Male', 'Age': 23, 'Height': 5.8, 'Occupation': 'Student'}\n",
    "print(dictionary)"
   ]
  },
  {
   "cell_type": "code",
   "execution_count": null,
   "metadata": {
    "colab": {
     "base_uri": "https://localhost:8080/",
     "height": 35
    },
    "colab_type": "code",
    "id": "NP7u5dy-nfN8",
    "outputId": "d59d2e64-73f5-4b9a-8cd6-6540b46ca0d2"
   },
   "outputs": [],
   "source": [
    "print(dictionary.keys())"
   ]
  },
  {
   "cell_type": "markdown",
   "metadata": {
    "colab_type": "text",
    "id": "BWvmAH_GntfA"
   },
   "source": [
    "\n",
    "\n",
    "---\n",
    "\n"
   ]
  },
  {
   "cell_type": "markdown",
   "metadata": {
    "colab_type": "text",
    "id": "HAVoI3_bnuMx"
   },
   "source": [
    "# 10) Values\n",
    "Python dictionary method values() returns a list of all the values available in a given dictionary."
   ]
  },
  {
   "cell_type": "code",
   "execution_count": null,
   "metadata": {
    "colab": {
     "base_uri": "https://localhost:8080/",
     "height": 35
    },
    "colab_type": "code",
    "id": "qXjjhFtgny0I",
    "outputId": "5a9efc5a-d79d-4ceb-aa15-0e428f76059b"
   },
   "outputs": [],
   "source": [
    "dictionary = {'Name': 'Tanu', 'Sex': 'Male', 'Age': 23, 'Height': 5.8, 'Occupation': 'Student'}\n",
    "print(dictionary)"
   ]
  },
  {
   "cell_type": "code",
   "execution_count": null,
   "metadata": {
    "colab": {
     "base_uri": "https://localhost:8080/",
     "height": 35
    },
    "colab_type": "code",
    "id": "292VDOpfn0kt",
    "outputId": "dfd04120-f03c-4aee-83d2-b9ad217a5a0e"
   },
   "outputs": [],
   "source": [
    "print(dictionary.values())"
   ]
  },
  {
   "cell_type": "markdown",
   "metadata": {
    "colab_type": "text",
    "id": "oHxpl4r1n2H6"
   },
   "source": [
    "\n",
    "\n",
    "---\n",
    "\n"
   ]
  },
  {
   "cell_type": "markdown",
   "metadata": {
    "colab_type": "text",
    "id": "U-TThaF4n2rN"
   },
   "source": [
    "Hence above are the very important techniques or functions of Dictionary in Python. Some of the examples were referred from [Python Dictionary](https://www.programiz.com/python-programming/dictionary). I have written this tutorial in a simple way such that everybody can understand and master the concepts of Dictionaries in Python without prior programming knowledge or experience. If you guys have some doubts in the code, the comment section is all yours. Thank you have a good day."
   ]
  }
 ],
 "metadata": {
  "colab": {
   "include_colab_link": true,
   "name": "Dictionary.ipynb",
   "provenance": [],
   "version": "0.3.2"
  },
  "kernelspec": {
   "display_name": "Python 3",
   "language": "python",
   "name": "python3"
  },
  "language_info": {
   "codemirror_mode": {
    "name": "ipython",
    "version": 3
   },
   "file_extension": ".py",
   "mimetype": "text/x-python",
   "name": "python",
   "nbconvert_exporter": "python",
   "pygments_lexer": "ipython3",
   "version": "3.7.1"
  }
 },
 "nbformat": 4,
 "nbformat_minor": 1
}
